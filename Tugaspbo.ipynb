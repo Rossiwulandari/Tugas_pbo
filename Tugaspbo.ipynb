{
  "nbformat": 4,
  "nbformat_minor": 0,
  "metadata": {
    "colab": {
      "provenance": [],
      "authorship_tag": "ABX9TyPctmC4dIm8UUlxpG4DSOzr",
      "include_colab_link": true
    },
    "kernelspec": {
      "name": "python3",
      "display_name": "Python 3"
    },
    "language_info": {
      "name": "python"
    }
  },
  "cells": [
    {
      "cell_type": "markdown",
      "metadata": {
        "id": "view-in-github",
        "colab_type": "text"
      },
      "source": [
        "<a href=\"https://colab.research.google.com/github/Rossiwulandari/Tugas_pbo/blob/master/Tugaspbo.ipynb\" target=\"_parent\"><img src=\"https://colab.research.google.com/assets/colab-badge.svg\" alt=\"Open In Colab\"/></a>"
      ]
    },
    {
      "cell_type": "code",
      "execution_count": 1,
      "metadata": {
        "colab": {
          "base_uri": "https://localhost:8080/"
        },
        "id": "9z9Pnk2jXC_U",
        "outputId": "bbf4b862-f1bf-47a9-99f6-05bd0b565571"
      },
      "outputs": [
        {
          "output_type": "stream",
          "name": "stdout",
          "text": [
            "KRS Rossi Wulandari (220705055):\n",
            "- Pemrograman Python\n",
            "- Basis Data\n"
          ]
        }
      ],
      "source": [
        "class Mahasiswa:\n",
        "    def __init__(self, nama, nim):\n",
        "        self.nama = nama\n",
        "        self.nim = nim\n",
        "        self.krs = []\n",
        "\n",
        "    def tambah_krs(self, mata_kuliah):\n",
        "        self.krs.append(mata_kuliah)\n",
        "\n",
        "    def cetak_krs(self):\n",
        "        print(f\"KRS {self.nama} ({self.nim}):\")\n",
        "        for mk in self.krs:\n",
        "            print(f\"- {mk}\")\n",
        "\n",
        "if __name__ == \"__main__\":\n",
        "    mhs = Mahasiswa(\"Rossi Wulandari\", \"220705055\")\n",
        "    mhs.tambah_krs(\"Pemrograman Python\")\n",
        "    mhs.tambah_krs(\"Basis Data\")\n",
        "    mhs.cetak_krs()"
      ]
    },
    {
      "cell_type": "code",
      "source": [
        "import math\n",
        "\n",
        "class Lingkaran:\n",
        "    def __init__(self, radius):\n",
        "        self.radius = radius\n",
        "\n",
        "    def hitung_luas(self):\n",
        "        return math.pi * self.radius**2\n",
        "\n",
        "    def hitung_keliling(self):\n",
        "        return 2 * math.pi * self.radius\n",
        "\n",
        "if __name__ == \"__main__\":\n",
        "    lingkaran = Lingkaran(5)\n",
        "    print(f\"Luas lingkaran: {lingkaran.hitung_luas()}\")\n",
        "    print(f\"Keliling lingkaran: {lingkaran.hitung_keliling()}\")"
      ],
      "metadata": {
        "colab": {
          "base_uri": "https://localhost:8080/"
        },
        "id": "PGABcapAXTAH",
        "outputId": "d86f1875-5bba-4b64-da46-0e350e3e72a7"
      },
      "execution_count": 2,
      "outputs": [
        {
          "output_type": "stream",
          "name": "stdout",
          "text": [
            "Luas lingkaran: 78.53981633974483\n",
            "Keliling lingkaran: 31.41592653589793\n"
          ]
        }
      ]
    },
    {
      "cell_type": "code",
      "source": [
        "class Mobil:\n",
        "    def __init__(self, merek, warna):\n",
        "        self.merek = merek\n",
        "        self.warna = warna\n",
        "        self.kecepatan = 0\n",
        "\n",
        "    def akselerasi(self, tambah_kecepatan):\n",
        "        self.kecepatan += tambah_kecepatan\n",
        "        print(f\"Kecepatan mobil {self.merek} sekarang: {self.kecepatan} km/jam\")\n",
        "\n",
        "    def rem(self, kurang_kecepatan):\n",
        "        self.kecepatan -= kurang_kecepatan\n",
        "        if self.kecepatan < 0:\n",
        "            self.kecepatan = 0\n",
        "        print(f\"Kecepatan mobil {self.merek} sekarang: {self.kecepatan} km/jam\")\n",
        "\n",
        "if __name__ == \"__main__\":\n",
        "    mobil = Mobil(\"Toyota\", \"Merah\")\n",
        "    mobil.akselerasi(20)\n",
        "    mobil.akselerasi(30)\n",
        "    mobil.rem(10)\n",
        "    mobil.rem(50)"
      ],
      "metadata": {
        "colab": {
          "base_uri": "https://localhost:8080/"
        },
        "id": "eUavjy23XVfU",
        "outputId": "e3a82548-bc30-4b18-bd16-6351ba669d22"
      },
      "execution_count": 3,
      "outputs": [
        {
          "output_type": "stream",
          "name": "stdout",
          "text": [
            "Kecepatan mobil Toyota sekarang: 20 km/jam\n",
            "Kecepatan mobil Toyota sekarang: 50 km/jam\n",
            "Kecepatan mobil Toyota sekarang: 40 km/jam\n",
            "Kecepatan mobil Toyota sekarang: 0 km/jam\n"
          ]
        }
      ]
    },
    {
      "cell_type": "code",
      "source": [
        "class Buku:\n",
        "    def __init__(self, judul, penulis, tahun_terbit):\n",
        "        self.judul = judul\n",
        "        self.penulis = penulis\n",
        "        self.tahun_terbit = tahun_terbit\n",
        "\n",
        "    def info_buku(self):\n",
        "        print(f\"Judul: {self.judul}\")\n",
        "        print(f\"Penulis: {self.penulis}\")\n",
        "        print(f\"Tahun Terbit: {self.tahun_terbit}\")\n",
        "\n",
        "if __name__ == \"__main__\":\n",
        "    buku = Buku(\"Laskar Pelangi\", \"Andrea Hirata\", 2005)\n",
        "    buku.info_buku()"
      ],
      "metadata": {
        "colab": {
          "base_uri": "https://localhost:8080/"
        },
        "id": "0ci34T70XeG7",
        "outputId": "442fe561-143a-4160-8952-64e9cf7ed132"
      },
      "execution_count": 4,
      "outputs": [
        {
          "output_type": "stream",
          "name": "stdout",
          "text": [
            "Judul: Laskar Pelangi\n",
            "Penulis: Andrea Hirata\n",
            "Tahun Terbit: 2005\n"
          ]
        }
      ]
    },
    {
      "cell_type": "code",
      "source": [
        "\n",
        "class Karyawan:\n",
        "    def __init__(self, nama, jabatan, gaji):\n",
        "        self.nama = nama\n",
        "        self.jabatan = jabatan\n",
        "        self.gaji = gaji\n",
        "\n",
        "    def naik_gaji(self, persentase):\n",
        "        self.gaji += self.gaji * (persentase / 100)\n",
        "        print(f\"Gaji {self.nama} setelah kenaikan: {self.gaji}\")\n",
        "\n",
        "if __name__ == \"__main__\":\n",
        "    karyawan = Karyawan(\"Andi\", \"Manager\", 10000000)\n",
        "    karyawan.naik_gaji(10)"
      ],
      "metadata": {
        "colab": {
          "base_uri": "https://localhost:8080/"
        },
        "id": "WWooea4iXnIJ",
        "outputId": "e0093032-2e5a-41a3-ba26-9a0d5a94587a"
      },
      "execution_count": 5,
      "outputs": [
        {
          "output_type": "stream",
          "name": "stdout",
          "text": [
            "Gaji Andi setelah kenaikan: 11000000.0\n"
          ]
        }
      ]
    },
    {
      "cell_type": "code",
      "source": [],
      "metadata": {
        "id": "nmj5lQkiXtZZ"
      },
      "execution_count": null,
      "outputs": []
    },
    {
      "cell_type": "code",
      "source": [],
      "metadata": {
        "id": "LjcSpgxnXz9P"
      },
      "execution_count": null,
      "outputs": []
    }
  ]
}